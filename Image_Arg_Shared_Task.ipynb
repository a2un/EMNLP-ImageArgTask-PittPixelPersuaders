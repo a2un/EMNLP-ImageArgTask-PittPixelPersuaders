{
  "nbformat": 4,
  "nbformat_minor": 0,
  "metadata": {
    "colab": {
      "provenance": [],
      "mount_file_id": "1PY736z_tRa44cKqDFWbjioliXjSVCpYS",
      "authorship_tag": "ABX9TyNCvNz7U4p9URTo5zU6V4dl",
      "include_colab_link": true
    },
    "kernelspec": {
      "name": "python3",
      "display_name": "Python 3"
    },
    "language_info": {
      "name": "python"
    }
  },
  "cells": [
    {
      "cell_type": "markdown",
      "metadata": {
        "id": "view-in-github",
        "colab_type": "text"
      },
      "source": [
        "<a href=\"https://colab.research.google.com/github/a2un/EMNLP-ImageArgTask-PittPixelPersuaders/blob/main/Image_Arg_Shared_Task.ipynb\" target=\"_parent\"><img src=\"https://colab.research.google.com/assets/colab-badge.svg\" alt=\"Open In Colab\"/></a>"
      ]
    },
    {
      "cell_type": "code",
      "source": [
        "from google.colab import drive\n",
        "drive.mount('/content/drive',force_remount=True)"
      ],
      "metadata": {
        "colab": {
          "base_uri": "https://localhost:8080/"
        },
        "id": "lz-x7wUFHMaO",
        "outputId": "c81178c3-08a1-4e7a-dc77-1c24baf8c810"
      },
      "execution_count": null,
      "outputs": [
        {
          "output_type": "stream",
          "name": "stdout",
          "text": [
            "Mounted at /content/drive\n"
          ]
        }
      ]
    },
    {
      "cell_type": "code",
      "source": [
        "%cd /content/drive/MyDrive/ImageArg_Shared_Task/ImageArg-Shared-Task"
      ],
      "metadata": {
        "colab": {
          "base_uri": "https://localhost:8080/"
        },
        "id": "_dIKD49dHCq0",
        "outputId": "bffcfc9b-1df8-4559-85f0-eeb9d21ecae0"
      },
      "execution_count": null,
      "outputs": [
        {
          "output_type": "stream",
          "name": "stdout",
          "text": [
            "/content/drive/MyDrive/ImageArg_Shared_Task/ImageArg-Shared-Task\n"
          ]
        }
      ]
    },
    {
      "cell_type": "code",
      "source": [],
      "metadata": {
        "id": "LDu7BjQSJmaB"
      },
      "execution_count": null,
      "outputs": []
    }
  ]
}